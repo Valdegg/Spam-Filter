{
 "cells": [
  {
   "cell_type": "markdown",
   "metadata": {},
   "source": [
    "### Machine Learning Exercise - Spam filter \n",
    "\n",
    "Table of contents \n",
    "    1. Load the data & import tools \n",
    "    2. Helper functions \n",
    "        Stratified Triple Cross Validation \n",
    "        Custom Scoring Function \n",
    "    3. Naive Bayes \n",
    "        Helper functions\n",
    "        'Manual' grid search \n",
    "        Plot results \n",
    "        Find best alpha\n",
    "            'manually'\n",
    "            w/ RandomizedSearchCV\n",
    "        Test it on the test set \n",
    "    4. SVM \n",
    "        Helper functions \n",
    "        Experiment 1 \n",
    "        Experiment 2 \n",
    "        Experiment 3 \n",
    "        Experiment 4 \n",
    "        Experiment 5\n",
    "        Precision / Recall curve of results\n",
    "    5. Random Forests \n",
    "        Helper functions \n",
    "        Experiment 1 \n",
    "        Experiment 2 \n",
    "        Experiment 3 \n",
    "        Experiment 4 \n",
    "        Experiment 5\n",
    "        Precision / Recall curve of results\n",
    "\n"
   ]
  },
  {
   "cell_type": "markdown",
   "metadata": {},
   "source": [
    "### 1. Load the data\n",
    "\n",
    "    The data has already been pre-processed to a bag of words representation, with a word count vector for each email.\n",
    "    Stored in a sparse matrix, with 10.000 emails (data rows) and 57173 words (features).\n",
    "    \n",
    "    The following cell gets the data into a variable we can work with: "
   ]
  },
  {
   "cell_type": "code",
   "execution_count": 10,
   "metadata": {},
   "outputs": [
    {
     "name": "stdout",
     "output_type": "stream",
     "text": [
      "(57173, 10000)\n",
      "(1, 10000)\n"
     ]
    }
   ],
   "source": [
    "from time import time\n",
    "import os\n",
    "import scipy.io\n",
    "import numpy as np\n",
    "import scipy.sparse as sp\n",
    "from sklearn.feature_extraction.text import TfidfTransformer\n",
    "from sklearn.preprocessing import StandardScaler\n",
    "import matplotlib.pyplot as plt\n",
    "\n",
    "from sklearn.model_selection import StratifiedKFold\n",
    "from sklearn.model_selection import RandomizedSearchCV\n",
    "from sklearn.metrics import confusion_matrix\n",
    "\n",
    "from sklearn.naive_bayes import MultinomialNB\n",
    "from sklearn.svm import SVC\n",
    "from sklearn.ensemble import RandomForestClassifier\n",
    "\n",
    "from inspect import signature\n",
    "from sklearn.metrics import roc_curve, auc\n",
    "from sklearn.metrics import precision_recall_curve\n",
    "from sklearn.metrics import average_precision_score \n",
    "\n",
    "\n",
    "def get_data(name ):\n",
    "    \"\"\"\n",
    "    :param name: name of .mat file in working directory\n",
    "    :return:\n",
    "        measurements are the bag of words representation of the emails\n",
    "        labels are the corresponding labels\n",
    "    \"\"\"\n",
    "    mat = scipy.io.loadmat(name)\n",
    "    measurements = mat['X']\n",
    "    labels = mat['Y']\n",
    "    print(measurements.shape)\n",
    "    print(labels.shape)\n",
    "\n",
    "    return measurements, labels[0]\n",
    "\n",
    "os.chdir(\"/Users/valdimareggertsson/Documents/Valdi/Sumarönn 2019/Machine Learning/Projects/\")\n",
    "\n",
    "m,l = get_data(\"emails.mat\")\n",
    "m_t = m.transpose()\n",
    "# m is 10000 x 57173,   emails by words sparse matrix\n",
    "    # data x features, meikar meira sense\n",
    "# l is 1 x 1000 ,  labels by email\n",
    "N = m.shape[1]\n",
    "# N is number of emails\n",
    "\n",
    "# m_t only has the counts. \n",
    "# Let's get a matrix with term frequencies weighted by inverse document frequency:\n",
    "tfidf_transformer=TfidfTransformer(smooth_idf=True,use_idf=True, norm='l2')\n",
    "tfidf_transformer.fit(m_t)\n",
    "tfidf_m_t = tfidf_transformer.transform(m_t)"
   ]
  },
  {
   "cell_type": "markdown",
   "metadata": {},
   "source": [
    "### 2. Functions used\n",
    "    i) conf_interpretation, which gets precision/accuracy/FPR/TPR from confusion matrix\n",
    "    ii) cvkfold, which does k-fold stratified cross validation and splits the data set into train/validate/test\n",
    "    iii) train_avg_cv, which trains a model using k-fold cross validation "
   ]
  },
  {
   "cell_type": "code",
   "execution_count": 14,
   "metadata": {},
   "outputs": [],
   "source": [
    "def conf_interpretation(con):\n",
    "    \"\"\"\n",
    "    con is the output of metrics.confusion_matrix()\n",
    "    \"\"\"\n",
    "    tp = con[1][1]\n",
    "    fn = con[1][0]\n",
    "    fp = con[0][1]\n",
    "    tn = con[0][0]\n",
    "    precision = tp / (tp+fp)\n",
    "    r_fp = fp / (fp+tn)\n",
    "    # false positive rate / false alarm rate\n",
    "    # which must be max 0.002\n",
    "    \n",
    "    recall = tp / (tp + fn)\n",
    "    \n",
    "    accuracy = (tp + tn) / (tp+tn+fn+fp)\n",
    "  \n",
    "    return precision, accuracy, r_fp, recall \n",
    "\n",
    "\n",
    "def cvkfold(data, l, k):\n",
    "    \"\"\"\n",
    "    data: matrix of measurements\n",
    "    l: vector of labels \n",
    "    k: number of splits \n",
    "    returns: \n",
    "        a list of length k X_train/X_validate cross-validation pairs \n",
    "        X_test, y_test - a reserved test set containing 1/k of the rows from 'data'\n",
    "        all stratified, i.e. with original class ratios\n",
    "    \"\"\"\n",
    "    kf = StratifiedKFold(n_splits = k)\n",
    "\n",
    "    i = 0 \n",
    "    for train_index, test_index in kf.split(data, l):\n",
    "\n",
    "        if i == 0:\n",
    "            # reserve for testing \n",
    "            X_test = data[test_index]\n",
    "            y_test = l[test_index]\n",
    "        # hvað er í gangi hérna\n",
    "        # ach ja, test tekið frá og restin notuð í train/validate \n",
    "            X = data[train_index]\n",
    "            y = l[train_index]\n",
    "\n",
    "\n",
    "    X_train, y_train = [], []\n",
    "    X_validate, y_validate = [],[] \n",
    "    # X og y eru hráefni fyrir train/validation split \n",
    "    for tr, te in kf.split(X,y):\n",
    "        X_train.append(data[tr])\n",
    "        y_train.append(l[tr])\n",
    "\n",
    "        X_validate.append(data[te])\n",
    "        y_validate.append(l[te])    \n",
    "\n",
    "    return X_train, y_train, X_validate, y_validate, X_test, y_test\n",
    "\n",
    "\n",
    "def train_avg_cv(model, data,k):\n",
    "    \"\"\"\n",
    "    Use: p, a = train_avg_cv(model,data)\n",
    "    Before:  \n",
    "        'model' is a classifier, \n",
    "        'data' is the matrix of measurements \n",
    "        'k' is the number of splits for CV \n",
    "    After: \n",
    "        p is the average precision found through k-fold cross validation\n",
    "        a is the average accuracy found through k-fold cross validation\n",
    "        cons is a list of confusion matrices for the splits \n",
    "    \"\"\"\n",
    "    \n",
    "    X_train, y_train, X_validate, y_validate, X_test, y_test = cvkfold(data,l,k)\n",
    "    avg_r_fp = 0 \n",
    "    avg_r_tp = 0 \n",
    "    avg_precision = 0 \n",
    "    avg_accuracy = 0 \n",
    "    cons = []\n",
    "    for i in range(k):\n",
    "        model.fit(X_train[i], y_train[i])\n",
    "        pred = model.predict(X_validate[i])\n",
    "        con = confusion_matrix(y_validate[i],pred)\n",
    "        avg_precision += 1/k*conf_interpretation(con)[0]\n",
    "        avg_accuracy += 1/k*conf_interpretation(con)[1]\n",
    "        avg_r_fp += 1/k*conf_interpretation(con)[2]\n",
    "        avg_r_tp += 1/k*conf_interpretation(con)[3]\n",
    "        cons.append(con)\n",
    "        print(con)\n",
    "\n",
    "    return avg_precision, avg_accuracy, avg_r_fp, avg_r_tp\n",
    "\n",
    "\n",
    "def show_best(random_results):\n",
    "    \"\"\" \n",
    "    random_results is the outcome of RandomizedSearchCV()\n",
    "    \"\"\"\n",
    "    best_prediction = random_results.best_estimator_.predict(X_test)\n",
    "    con = confusion_matrix(y_test, best_prediction)\n",
    "    print(conf_interpretation(con))\n",
    "    print(con)\n",
    "    print(random_results.best_estimator_)\n",
    "    "
   ]
  },
  {
   "cell_type": "markdown",
   "metadata": {},
   "source": [
    "### 3. Naive Bayes\n",
    "\n",
    "The typical method for solving this task.\n",
    "\n",
    "Functions: \n",
    "    - param_range,  which makes a list of hyperparameters (alpha) to check \n",
    "    - good_NB_classifiers,  which filters out only those hyperparameters that fulfil certain criteria \n",
    "    "
   ]
  },
  {
   "cell_type": "code",
   "execution_count": null,
   "metadata": {},
   "outputs": [],
   "source": [
    "def param_range(start, end, rate):\n",
    "    \"\"\"\n",
    "    returns: range(start,end,dx) distributed unevenly\n",
    "    \"\"\"\n",
    "    parameters = []\n",
    "    a = start \n",
    "    while(a < end):\n",
    "        a += a/rate\n",
    "        parameters.append(a)\n",
    "    return parameters\n",
    "\n",
    "\n",
    "def good_NB_classifiers(params_to_check, min_precision, min_accuracy, min_rfp, data,k):\n",
    "    \"\"\"\n",
    "    Use: alphas_OK = good_NB_classifiers(params_to_check, min_precision)\n",
    "    Before: \n",
    "        params_to_check is a list of hyperparameter values for NB\n",
    "        min_precision, min_accuracy and min_rfp are requirements for precision/accuracy/false positive rate\n",
    "        data is the matrix of measurements \n",
    "    After: \n",
    "        alphas_OK is a list of (precision, accuracy, FP rate, TP rate, parameter value) after k-fold CV with NB\n",
    "    \"\"\"\n",
    "\n",
    "    params_OK = []\n",
    "    for param in params_to_check:\n",
    "        p,a,rfp,rtp = train_avg_cv(MultinomialNB(param), data,k)\n",
    "        if p > min_precision and a > min_accuracy and rfp < min_rfp :\n",
    "            params_OK.append((p,a, rfp, rtp, param))\n",
    "        # a has the max precision\n",
    "    return params_OK"
   ]
  },
  {
   "cell_type": "code",
   "execution_count": null,
   "metadata": {},
   "outputs": [],
   "source": [
    "# Try a range of parameters and find adequate models\n",
    "from sklearn.naive_bayes import MultinomialNB\n",
    "\n",
    "min_precision = 0.999#0.999\n",
    "min_accuracy = 0.993\n",
    "max_rfp = 0.002\n",
    "\n",
    "params_to_check = param_range(5e-08,7e-05, 4) #[0.000001, 0.0001,0.001, 0.005, 0.01, 0.05, 0.1, 0.5, 1.0, 2.0]      \n",
    "alphas_OK = good_NB_classifiers(params_to_check, min_precision, min_accuracy, max_rfp, m_t,20)\n",
    "print(\"Good enough, without IDF:\")\n",
    "print(alphas_OK)\n",
    "\n",
    "params_to_check = param_range(5e-8,1, 4) #[0.000001, 0.0001,0.001, 0.005, 0.01, 0.05, 0.1, 0.5, 1.0, 2.0]      \n",
    "\n",
    "wide_range_NB = good_NB_classifiers(params_to_check, 0.95, 0.90, 0.01, m_t,20)"
   ]
  },
  {
   "cell_type": "markdown",
   "metadata": {},
   "source": [
    "## Plot the results that were found"
   ]
  },
  {
   "cell_type": "code",
   "execution_count": null,
   "metadata": {},
   "outputs": [],
   "source": [
    "import matplotlib.pyplot as plt\n",
    "\n",
    "\n",
    "def plotpics(results):\n",
    "    \"\"\"\n",
    "    Before: \n",
    "        results is output from good_NB_classifiers\n",
    "    After: \n",
    "        precision/recall, ROC and accuracy/precision/alpha curves have been displayed\n",
    "    \"\"\"\n",
    "    alphas = [x[4] for x in results]\n",
    "    precisions = [x[0] for x in results]\n",
    "    accuracies = [x[1] for x in results]\n",
    "\n",
    "    plt.plot(alphas,precisions, 'bo')\n",
    "    plt.plot(alphas, accuracies,'ro')\n",
    "    plt.legend([\"Precision\",\"Accuracy\"])\n",
    "    plt.xlabel(\"smoothing parameter alpha\")\n",
    "    plt.xticks([min(alphas), (min(alphas) + max(alphas))/2, max(alphas)])\n",
    "    plt.show()\n",
    "\n",
    "    fp_rate = [x[2] for x in results] \n",
    "    tp_rate = [x[3] for x in results]\n",
    "\n",
    "    ### Plot ROC\n",
    "    plt.plot(fp_rate, tp_rate)\n",
    "    plt.title(\"ROC\")\n",
    "    plt.xlim(0,0.003)\n",
    "    plt.xlabel(\"False Positive Rate\")\n",
    "    plt.ylabel(\"True Positive Rate\")\n",
    "    plt.show()\n",
    "\n",
    "    ### Plot Precision/Recall curve\n",
    "    plt.plot(tp_rate, precisions, \"bo\")\n",
    "    plt.xlim(0.95,1)\n",
    "    plt.ylim(0.9,1)\n",
    "    plt.xlabel(\"Recall\")\n",
    "    plt.ylabel(\"Precision\")\n",
    "    plt.show()\n",
    "\n",
    "    \n",
    "plotpics(alphas_OK_IDF)\n",
    "plotpics(wide_range_NB)\n",
    "\n",
    "# Tiny alphas:\n",
    "params_to_check = param_range(5e-4,1, 4)#[0.000001, 0.0001,0.001, 0.005, 0.01, 0.05, 0.1, 0.5, 1.0, 2.0]      \n",
    "alphas_tiny = good_NB_classifiers(params_to_check, min_precision, min_accuracy, max_rfp, m_t,20)\n",
    "\n",
    "plotpics(alphas_tiny[:10])\n"
   ]
  },
  {
   "cell_type": "markdown",
   "metadata": {},
   "source": [
    "### Find best alpha"
   ]
  },
  {
   "cell_type": "code",
   "execution_count": null,
   "metadata": {},
   "outputs": [],
   "source": [
    "def minFar_sortAcc(a_OK):\n",
    "    \n",
    "    alphas = [x[4] for x in a_OK]\n",
    "    precisions = [x[0] for x in a_OK]\n",
    "    accuracies = [x[1] for x in a_OK]   \n",
    "    fp_rate = [x[2] for x in a_OK] \n",
    "    tp_rate = [x[3] for x in a_OK]\n",
    "    \n",
    "    best = [x for x in a_OK if x[2] == np.max(fp_rate) and x[1] == np.max(accuracies)]\n",
    "\n",
    "    # Choose the highest alpha\n",
    "    best_alpha = np.max([x[4] for x in best])\n",
    "    \n",
    "    return best_alpha\n",
    "    \n",
    "    \n",
    "best_alpha = minFar_sortAcc(alphas_OK)\n",
    "            \n",
    "best_alpha"
   ]
  },
  {
   "cell_type": "markdown",
   "metadata": {},
   "source": [
    "## Evaluate the best alpha found on the test set "
   ]
  },
  {
   "cell_type": "code",
   "execution_count": null,
   "metadata": {},
   "outputs": [],
   "source": [
    "### Make a training set with 80% of the data\n",
    "import scipy.sparse as sp\n",
    "\n",
    "X_train, y_train, X_validate, y_validate, X_test, y_test = cvkfold(m_t,l,5)\n",
    "\n",
    "big_train_X = sp.csr_matrix(np.concatenate((X_validate[0].toarray(),X_train[0].toarray()),axis=0))\n",
    "big_train_y = np.concatenate((y_validate[0],y_train[0]))"
   ]
  },
  {
   "cell_type": "code",
   "execution_count": null,
   "metadata": {},
   "outputs": [],
   "source": [
    "best_nb = MultinomialNB(best_alpha)\n",
    "\n",
    "best_nb.fit(big_train_X, big_train_y)\n",
    "prediction = best_nb.predict(X_test)\n",
    "con = confusion_matrix(y_test,prediction)\n",
    "\n",
    "print(con)\n",
    "\n",
    "print(metrics.classification_report(y_test,prediction))\n",
    "print(conf_interpretation(con))\n",
    "\n",
    "print(train_avg_cv(best_nb,m_t,59))"
   ]
  },
  {
   "cell_type": "markdown",
   "metadata": {},
   "source": [
    "### Grid search for alpha from sklearn with custom scoring function"
   ]
  },
  {
   "cell_type": "code",
   "execution_count": null,
   "metadata": {
    "scrolled": true
   },
   "outputs": [],
   "source": [
    "from sklearn.model_selection import RandomizedSearchCV\n",
    "\n",
    "params_to_check = param_range(5e-8,7e-3, 4)\n",
    "random_grid = {'alpha': params_to_check}\n",
    "nb_random = RandomizedSearchCV(estimator = MultinomialNB(), param_distributions = random_grid, \n",
    "                                   scoring = scorer, n_iter = 10, cv = 5, random_state = 42, n_jobs = -1)\n",
    "nb_random.fit(big_train_X, big_train_y)\n",
    "show_best(nb_random)"
   ]
  },
  {
   "cell_type": "markdown",
   "metadata": {},
   "source": [
    "## Make ROC curve for NB"
   ]
  },
  {
   "cell_type": "code",
   "execution_count": null,
   "metadata": {},
   "outputs": [],
   "source": [
    "from sklearn.metrics import roc_curve, auc\n",
    "\n",
    "model = nb_random.best_estimator_\n",
    "\n",
    "model.fit(big_train_X, big_train_y)\n",
    "\n",
    "y_score = model.predict_proba(X_test)[:,1]\n",
    "\n",
    "fpr, tpr, _ =roc_curve(y_test, y_score)\n",
    "roc_auc = auc(fpr,tpr)\n",
    "lw = 2\n",
    "plt.plot(fpr, tpr, color='darkorange',lw=lw, label='ROC curve (area = %0.2f)' % roc_auc) \n",
    "plt.plot([0, 1], [0, 1], color='navy', lw=lw, linestyle='--') \n",
    "plt.xlim([0.0, 1.0])\n",
    "plt.ylim([0.0, 1.05])\n",
    "plt.xlabel('False Positive Rate')\n",
    "plt.ylabel('True Positive Rate')\n",
    "plt.title('Receiver operating characteristic example') \n",
    "plt.legend(loc=\"lower right\")"
   ]
  },
  {
   "cell_type": "markdown",
   "metadata": {},
   "source": [
    "### Make precision-recall curve for NB"
   ]
  },
  {
   "cell_type": "code",
   "execution_count": null,
   "metadata": {},
   "outputs": [],
   "source": [
    "from sklearn.metrics import precision_recall_curve\n",
    "from inspect import signature\n",
    "from sklearn.metrics import average_precision_score \n",
    "\n",
    "average_precision = average_precision_score(y_test, y_score)\n",
    "precision, recall, _ =precision_recall_curve(y_test, y_score)\n",
    "step_kwargs = ({'step': 'post'}\n",
    "if 'step' in signature(plt.fill_between).parameters\n",
    "else {})\n",
    "plt.step(recall, precision, color='b', alpha=0.2,\n",
    "         where='post')\n",
    "plt.fill_between(recall, precision, alpha=0.2, color='b', **step_kwargs)\n",
    "plt.xlabel('Recall')\n",
    "plt.ylabel('Precision')\n",
    "plt.ylim([0.0, 1.05])\n",
    "plt.xlim([0.0, 1.0])\n",
    "plt.title('2-class Precision-Recall curve: AP={0:0.2f}'.format(\n",
    "          average_precision))"
   ]
  },
  {
   "cell_type": "markdown",
   "metadata": {},
   "source": [
    "## 4. Support Vector Machines"
   ]
  },
  {
   "cell_type": "markdown",
   "metadata": {},
   "source": [
    "### Pre-processing and helper functions\n",
    "\n",
    "- Scale the data to variance 1 \n",
    "- train_avg_cv_fast(), function which does k-fold cross validation and stops if any of the splits have high FPR or low accuracy\n",
    "- good_SVM_classifiers(), function which filters out only models with good parameters\n"
   ]
  },
  {
   "cell_type": "code",
   "execution_count": null,
   "metadata": {},
   "outputs": [],
   "source": [
    "# Sklearn wants the data scaled.\n",
    "from sklearn.preprocessing import StandardScaler\n",
    "\n",
    "scaler = StandardScaler(with_mean = False)\n",
    "scaler.fit(m_t)\n",
    "m_t_s = scaler.transform(m_t)\n",
    "\n",
    "\n",
    "### To speed up the training. If the results of the first split give over 1% FPR, then stop training this model.\n",
    "def train_avg_cv_fast(model, data,k):\n",
    "    \"\"\"\n",
    "    Use: p, a = train_avg_cv(model,data)\n",
    "    Before:  \n",
    "        'model' is a classifier, \n",
    "        'data' is the matrix of measurements \n",
    "        'k' is the number of splits for CV \n",
    "    After: \n",
    "        p is the average precision found through k-fold cross validation\n",
    "        a is the average accuracy found through k-fold cross validation\n",
    "        cons is a list of confusion matrices for the splits \n",
    "        \n",
    "        Returns 0,0,0,0 if it seems hopeless \n",
    "    \"\"\"\n",
    "    \n",
    "    X_train, y_train, X_validate, y_validate, X_test, y_test = cvkfold(data,l,k)\n",
    "    avg_r_fp = 0 \n",
    "    avg_r_tp = 0 \n",
    "    avg_precision = 0 \n",
    "    avg_accuracy = 0 \n",
    "    cons = []\n",
    "    for i in range(k):\n",
    "        model.fit(X_train[i], y_train[i])\n",
    "        pred = model.predict(X_validate[i])\n",
    "        con = confusion_matrix(y_validate[i],pred)\n",
    "        \n",
    "        avg_precision += 1/k*conf_interpretation(con)[0]\n",
    "        avg_accuracy += 1/k*conf_interpretation(con)[1]\n",
    "        avg_r_fp += 1/k*conf_interpretation(con)[2]\n",
    "        avg_r_tp += 1/k*conf_interpretation(con)[3]\n",
    "        \n",
    "        if(conf_interpretation(con)[2] > 0.01  or conf_interpretation(con)[1] < 0.96):\n",
    "            print(\"Too many false positives or too low accuracy \")\n",
    "            return 0,0,0,0\n",
    "        \n",
    "        cons.append(con)\n",
    "        print(con)\n",
    "\n",
    "\n",
    "    return avg_precision, avg_accuracy, avg_r_fp, avg_r_tp\n",
    "\n",
    "def good_SVM_classifiers(kernel, weights,cs, data, max_fpr, min_acc):\n",
    "    \"\"\"\n",
    "    Use: \n",
    "        goodies =  good_SVM_classifiers(kernel, weights,cs, data)\n",
    "    Before: \n",
    "        kernel is a SVM kernel\n",
    "        weights is a list of weights for class_weight\n",
    "        cs is a list of paramters C \n",
    "        data is the dataset to be trained on \n",
    "        max_fpr is the maximum false positive rate which is good enough \n",
    "        min_acc is the minimum accuracy which is good enough \n",
    "    After: \n",
    "        goodies is the list of parameters/results that have are good enough\n",
    "    \"\"\"\n",
    "    good_cs = []\n",
    "    good_weights = []\n",
    "    good_results = []\n",
    "    results = []\n",
    "    for weight_dict in [{1:1, -1:x} for x in weights]:\n",
    "    \n",
    "        for c in cs:\n",
    "            results.append(train_avg_cv_fast(SVC(C = c, kernel = kernel, class_weight = weight_dict, max_iter = 1000), data,5))\n",
    "            if results[-1][2] < max_fpr  and results[-1][1] > min_acc:\n",
    "                # vista bara það sem er með <0.2% FPR \n",
    "                print(\"woohoo\")\n",
    "                print(\"weight:\")\n",
    "                print(weight_dict[-1])\n",
    "                print(\"C:\")\n",
    "                print(c)\n",
    "                good_cs.append(c)\n",
    "                good_weights.append(weight_dict[-1])\n",
    "                good_results.append(results[-1])\n",
    "            \n",
    "    return (kernel, good_weights, good_cs, good_results)    "
   ]
  },
  {
   "cell_type": "markdown",
   "metadata": {},
   "source": [
    "### Experiment 1\n",
    "\n",
    "Try out different kernels and some C and class_weights."
   ]
  },
  {
   "cell_type": "code",
   "execution_count": null,
   "metadata": {},
   "outputs": [],
   "source": [
    "from time import time\n",
    "all_good = {}\n",
    "\n",
    "max_fpr = 0.002\n",
    "min_acc = 0.975\n",
    "\n",
    "cs = [0.5,1.5,5]\n",
    "weights = [3,5,7,10,100]\n",
    "\n",
    "for kernel in ['linear', 'rbf', 'sigmoid', 'poly']:\n",
    "    t0 = time()\n",
    "\n",
    "    all_good[kernel] = good_SVM_classifiers(kernel, weights, cies, m_t_s, max_fpr, min_acc)\n",
    "    print(\" done in %0.3fs\" % (time() - t0)) \n",
    "\n",
    "# all_good is a dict with the good classifiers for the 4 kernels and the weights tested "
   ]
  },
  {
   "cell_type": "markdown",
   "metadata": {},
   "source": [
    "### Experiment 2\n",
    "\n",
    "Search further around the models that were good.\n"
   ]
  },
  {
   "cell_type": "code",
   "execution_count": null,
   "metadata": {},
   "outputs": [],
   "source": [
    "all_good"
   ]
  },
  {
   "cell_type": "markdown",
   "metadata": {},
   "source": [
    "### Try the good results that were found on the test set\n",
    "\n",
    "##### SVM parameters that look good,\n",
    "    Sigmoid: \n",
    "    weight -1 =  (5,7)\n",
    "    with C = 0.5 \n",
    "\n",
    "Let's try out values around those values.  Search with 10.000 iterations even?\n",
    "\n",
    "cs =  [0.4,... , 0.7] with 0.05 in between\n",
    "weights = [4... 9] með 0.5 in between \n"
   ]
  },
  {
   "cell_type": "code",
   "execution_count": null,
   "metadata": {},
   "outputs": [],
   "source": [
    "c = 0.5\n",
    "for weight_dict in  [{1:1, -1:5}, {1:1, -1:7}]:\n",
    "    model = SVC(C = c, kernel = 'sigmoid', class_weight = weight_dict, max_iter = 1000)\n",
    "    model.fit(big_train_X, big_train_y)\n",
    "    prediction = model.predict(X_test)\n",
    "    con = confusion_matrix(y_test,prediction)\n",
    "\n",
    "    print(con)\n",
    "    print(metrics.classification_report(y_test,prediction))\n",
    "    print(conf_interpretation(con))"
   ]
  },
  {
   "cell_type": "markdown",
   "metadata": {},
   "source": [
    "### Turns out the nice results didn't generalise to the test set!\n",
    "\n",
    "Let's anyway search around them for something better"
   ]
  },
  {
   "cell_type": "code",
   "execution_count": null,
   "metadata": {},
   "outputs": [],
   "source": [
    "cs = param_range(0.3,2,15)\n",
    "weights = param_range(4,9,7)\n",
    "goodies = good_SVM_classifiers('sigmoid', weights, cs, m_t_s, max_fpr, min_acc)\n",
    "\n",
    "print(goodies)"
   ]
  },
  {
   "cell_type": "markdown",
   "metadata": {},
   "source": [
    "### Found a few good results:\n",
    "\n",
    "\n",
    "- weights_found = [4.571, 5.224, 5.970, 5.970, 6.824, 6.824]\n",
    "- c_found = [0.536, 0.503,0.536, 0.503, 0.536, 0.503, 0.536]\n",
    "\n",
    "How good is the best one? Let's try'em out on the test set."
   ]
  },
  {
   "cell_type": "code",
   "execution_count": null,
   "metadata": {},
   "outputs": [],
   "source": [
    "weights_found = [4.571, 5.224, 5.970, 5.970, 6.824, 6.824]\n",
    "c_found = [0.536, 0.503,0.536, 0.503, 0.536, 0.503, 0.536]\n",
    "\n",
    "round2_goodvals = []\n",
    "good_mdls = []\n",
    "for i,w in enumerate(weights_found):\n",
    "    print(i)\n",
    "    modl = SVC(C = c_found[i], kernel = \"sigmoid\", class_weight = {1:1,-1:w}, max_iter = 1000)\n",
    "    round2_goodvals.append(train_avg_cv(modl, m_t_s,5))\n",
    "    good_mdls.append(modl)\n",
    "    \n",
    "# Test good models on test set:\n",
    "for model in good_mdls:\n",
    "    model.fit(big_train_X, big_train_y)\n",
    "    prediction = model.predict(X_test)\n",
    "    con = confusion_matrix(y_test,prediction)\n",
    "\n",
    "    print(str(i) + \"\\n\")\n",
    "    print(con)\n",
    "\n",
    "    print(metrics.classification_report(y_test,prediction))\n",
    "    print(conf_interpretation(con))"
   ]
  },
  {
   "cell_type": "markdown",
   "metadata": {},
   "source": [
    "### Experiment 3\n",
    "\n",
    "Search a wider range of parameters."
   ]
  },
  {
   "cell_type": "code",
   "execution_count": null,
   "metadata": {},
   "outputs": [],
   "source": [
    "\n",
    "dc = 0.2\n",
    "staerd = dc\n",
    "cies = []\n",
    "for i in range(10):\n",
    "\n",
    "    cies.append(staerd)\n",
    "    if i % 9 == 0 and i >0:\n",
    "        #print(cies)\n",
    "        dc*=10\n",
    "    staerd = staerd+dc\n",
    "weights = [1,3,5,7,9,10,15,20,25,30,40,60,80,100]\n",
    "\n",
    "# cies is a list of values of C     \n",
    "# weights is a list for class_weights\n",
    "\n",
    "all_good3 = {}\n",
    "\n",
    "for kernel in ['linear', 'rbf', 'sigmoid', 'poly']:\n",
    "    t0 = time()\n",
    "\n",
    "    all_good3[kernel] = good_SVM_classifiers(kernel, weights, cies, m_t_s, max_fpr, min_acc)\n",
    "    print(\" done in %0.3fs\" % (time() - t0)) \n",
    "## all_good3 is a dict with the good classifiers for the 4 kernels and the weights tested "
   ]
  },
  {
   "cell_type": "markdown",
   "metadata": {},
   "source": [
    "### Good results:"
   ]
  },
  {
   "cell_type": "code",
   "execution_count": null,
   "metadata": {},
   "outputs": [],
   "source": [
    "all_good3"
   ]
  },
  {
   "cell_type": "markdown",
   "metadata": {},
   "source": [
    "### Experiment 4\n",
    "Bigger search, also for gamma.\n",
    "Try to have the data both scaled and not scaled.\n",
    "Keep te weights that have proved successful."
   ]
  },
  {
   "cell_type": "code",
   "execution_count": null,
   "metadata": {},
   "outputs": [],
   "source": [
    "g = 1\n",
    "gammas =['auto']\n",
    "for i in range(10):        \n",
    "    g/=10\n",
    "    gammas.append(g)\n",
    "\n",
    "all_good4 = {}\n",
    "\n",
    "kernel = 'sigmoid'\n",
    "min_acc = 0.96\n",
    "weights = [1,5]\n",
    "\n",
    "for data in [m_t_s,m_t]:\n",
    "    all_good4[kernel] = good_SVM_classifiers(kernel, weights, cies, data, max_fpr, min_acc)"
   ]
  },
  {
   "cell_type": "markdown",
   "metadata": {},
   "source": [
    "## No good results printing out after many hours?\n",
    "\n",
    "shouldn't have tried to have it unscaled?"
   ]
  },
  {
   "cell_type": "markdown",
   "metadata": {},
   "source": [
    "### Experiment 5 - RandomizedSearchCV()\n",
    "\n",
    "enough of this manual labour - let's try the in-built method that I discovered too late"
   ]
  },
  {
   "cell_type": "code",
   "execution_count": null,
   "metadata": {
    "scrolled": true
   },
   "outputs": [],
   "source": [
    "# Make parameters to try\n",
    "\n",
    "dc = 0.2\n",
    "staerd = dc\n",
    "cies = []\n",
    "for i in range(10):\n",
    "    cies.append(staerd)\n",
    "    if i % 9 == 0 and i >0:\n",
    "        dc*=10\n",
    "    staerd = staerd+dc\n",
    "\n",
    "g = 1\n",
    "gammas =['auto']\n",
    "for i in range(10):        \n",
    "    g/=10\n",
    "    gammas.append(g)\n",
    " \n",
    "weights = [1,3,5,7,9,10,15,20,25,30,40,60,80,100]\n",
    "\n",
    "# Make grid of parameters to check:\n",
    "svm_grid = {'C': cies, 'class_weight': [{1:1, -1:x} for x in weights], 'gamma': gammas}\n",
    "svm_grid"
   ]
  },
  {
   "cell_type": "code",
   "execution_count": null,
   "metadata": {},
   "outputs": [],
   "source": [
    "from sklearn.svm import SVC\n",
    "svm_random = RandomizedSearchCV(estimator = SVC(kernel = 'sigmoid', max_iter = 1000), param_distributions=svm_grid, \n",
    "                                scoring = scorer, n_iter = 500, cv = 5, random_state = 42, n_jobs = -1)\n",
    "svm_random.fit(big_train_X, big_train_y)\n",
    "show_best(svm_random)"
   ]
  },
  {
   "cell_type": "markdown",
   "metadata": {},
   "source": [
    "#### Turns out it only found garbage??"
   ]
  },
  {
   "cell_type": "markdown",
   "metadata": {},
   "source": [
    "### Precision / Recall curve for classifiers found in CV"
   ]
  },
  {
   "cell_type": "code",
   "execution_count": 25,
   "metadata": {},
   "outputs": [
    {
     "data": {
      "text/plain": [
       "Text(0, 0.5, 'Precision')"
      ]
     },
     "execution_count": 25,
     "metadata": {},
     "output_type": "execute_result"
    },
    {
     "data": {
      "image/png": "[encoded data removed]",
      "text/plain": [
       "<Figure size 432x288 with 1 Axes>"
      ]
     },
     "metadata": {
      "needs_background": "light"
     },
     "output_type": "display_data"
    }
   ],
   "source": [
    "precisions = [1, 1,1,1,1,1]\n",
    "recalls = [0.99, 0.97, 0.99, 0.98, .97,0.93]\n",
    "\n",
    "plt.plot(precisions, recalls, 'bo')\n",
    "plt.title(\"Precision/Recall for SVMs\")\n",
    "plt.xlabel(\"Recall\")\n",
    "plt.ylabel(\"Precision\")\n",
    "plt.show()"
   ]
  },
  {
   "cell_type": "markdown",
   "metadata": {},
   "source": [
    "## 5. Random Forests"
   ]
  },
  {
   "cell_type": "markdown",
   "metadata": {},
   "source": [
    "contents:\n",
    "    - Helper functions \n",
    "    - Experiment 1 \n",
    "    - Experiment 2 \n",
    "    - Experiment 3 \n",
    "    - Experiment 4 \n",
    "    - Experiment 5"
   ]
  },
  {
   "cell_type": "markdown",
   "metadata": {},
   "source": [
    "Helper functions "
   ]
  },
  {
   "cell_type": "code",
   "execution_count": 6,
   "metadata": {},
   "outputs": [],
   "source": [
    "from sklearn import metrics\n",
    "\n",
    "def big_random_search(scorer, n_iterations, weights, max_depth=list(range(5,100,5)), n_estimators=list(range(5,200,5)), min_samples_split=[2,5,10], max_features=['sqrt', 'log2',100, 1000, 10000, 30000]):\n",
    "    \"\"\"\n",
    "    Use: \n",
    "        ensemble = big_random_search(scorer, n_iterations, weights, max_depth, n_estimators, min_samples_split, max_features):\n",
    "    Before: \n",
    "        scorer is a scorer from sklearn.metrics, made from a scoring/loss function\n",
    "            or a string which is valid as argument 'scoring' to RandomizedSearchCV\n",
    "        n_iterations controls how long the random search is \n",
    "        rest of arguments are parameters for the random forest \n",
    "    After: \n",
    "        ensemble is a random forest found through RandomizedSearchCV given the parameters \n",
    "    \"\"\"\n",
    "    bootstrap  = [True, False]\n",
    "    class_weights = [{1:1,-1:x} for x in weights]\n",
    "    min_samples_leaf = [1,2,5,10]\n",
    "\n",
    "    random_grid = {'n_estimators': n_estimators, 'max_features': max_features, 'max_depth': \n",
    "                   max_depth, 'min_samples_split': min_samples_split, 'min_samples_leaf': min_samples_leaf, \n",
    "                   'bootstrap': bootstrap, 'class_weight': class_weights}\n",
    "\n",
    "    rf_random = RandomizedSearchCV(estimator = RandomForestClassifier(), param_distributions = random_grid, \n",
    "                                   scoring = scorer, n_iter = n_iterations, cv = 5, random_state = 42, n_jobs = -1)\n",
    "\n",
    "    rf_random.fit(big_train_X, big_train_y)\n",
    "    \n",
    "    return rf_random\n",
    "\n",
    "def my_score_function(y_true, y_predict):\n",
    "    \"\"\"\n",
    "    Use: \n",
    "        score = my_score_function(y_true,y_predict)\n",
    "    Before:\n",
    "        y_true are true labels, y_predict predicted labels \n",
    "    After: \n",
    "        score is an evaluation of how good the prediction was\n",
    "        (only good if the fpr was adequate and recall is good)\n",
    "    \"\"\"\n",
    "    con = confusion_matrix(y_true,y_predict)\n",
    "    precision, accuracy, fpr, recall = conf_interpretation(con)\n",
    "    if fpr <= 1/500:\n",
    "        score =5* recall\n",
    "    else:\n",
    "        score = 0\n",
    "        \n",
    "    return score \n",
    "\n",
    "scorer = metrics.make_scorer(my_score_function)"
   ]
  },
  {
   "cell_type": "markdown",
   "metadata": {},
   "source": [
    "### Check the baseline model"
   ]
  },
  {
   "cell_type": "code",
   "execution_count": 29,
   "metadata": {},
   "outputs": [
    {
     "data": {
      "text/plain": [
       "{'bootstrap': True,\n",
       " 'class_weight': None,\n",
       " 'criterion': 'gini',\n",
       " 'max_depth': None,\n",
       " 'max_features': 'auto',\n",
       " 'max_leaf_nodes': None,\n",
       " 'min_impurity_decrease': 0.0,\n",
       " 'min_impurity_split': None,\n",
       " 'min_samples_leaf': 1,\n",
       " 'min_samples_split': 2,\n",
       " 'min_weight_fraction_leaf': 0.0,\n",
       " 'n_estimators': 'warn',\n",
       " 'n_jobs': None,\n",
       " 'oob_score': False,\n",
       " 'random_state': None,\n",
       " 'verbose': 0,\n",
       " 'warm_start': False}"
      ]
     },
     "execution_count": 29,
     "metadata": {},
     "output_type": "execute_result"
    }
   ],
   "source": [
    "# baseline:\n",
    "clf = RandomForestClassifier()\n",
    "clf.get_params()\n",
    "#print(train_avg_cv(clf,m_t,10))"
   ]
  },
  {
   "cell_type": "markdown",
   "metadata": {},
   "source": [
    "### Experiment 1\n",
    "\n",
    "    - Find optimal precision \n",
    "    \n",
    "    - Display results \n",
    "\n",
    "    - Search further around the result for models that were good.\n"
   ]
  },
  {
   "cell_type": "code",
   "execution_count": null,
   "metadata": {},
   "outputs": [],
   "source": [
    "n_estimators = list(range(5,200,5))\n",
    "max_features = ['sqrt', 'log2',100, 1000, 10000, 30000]\n",
    "max_depth = list(range(5,100,5))\n",
    "min_samples_split = [2,5,10]\n",
    "weights = [0.1, 0.2, 0.5, 1,3,5,7,9,15,20]\n",
    "\n",
    "rf_precision = big_random_search('precision', 20, weights, max_depth, n_estimators, min_samples_split, max_features)\n",
    "\n",
    "show_best(rf_precision)"
   ]
  },
  {
   "cell_type": "markdown",
   "metadata": {},
   "source": [
    "Good parameters found: \n",
    "    weight = 5\n",
    "    max_depth = 65 \n",
    "    n_estimators = 25 "
   ]
  },
  {
   "cell_type": "code",
   "execution_count": null,
   "metadata": {},
   "outputs": [],
   "source": [
    "# Further search for high recall around the one found \n",
    "\n",
    "rf_no_fn_hi_recall = big_random_search(metrics.make_scorer(my_score_function), 50, [3,5,7,9], [55,60,65,70], [20,25,30])\n",
    "\n",
    "show_best(rf_no_fn_hi_recall)"
   ]
  },
  {
   "cell_type": "markdown",
   "metadata": {},
   "source": [
    "### Experiment 2\n",
    "\n",
    "    - Find optimal recall \n",
    "    \n",
    "    - Display results \n",
    "\n",
    "    - Search further around the result for models that were good.\n"
   ]
  },
  {
   "cell_type": "code",
   "execution_count": null,
   "metadata": {},
   "outputs": [],
   "source": [
    "weights = [0.1, 0.2, 0.5, 1,3,5,7,9,15,20]\n",
    "rf_recall = big_random_search(scorer, 20, weights)\n",
    "show_best(rf_recall)"
   ]
  },
  {
   "cell_type": "markdown",
   "metadata": {},
   "source": [
    "### Experiment 3\n",
    "\n",
    "    - Find optimal accuracy \n",
    "    \n",
    "    - Display results \n",
    "\n",
    "    - a) Search further around the result for models that were good.\n",
    "    \n",
    "    - b) Adjust the probability threshold needed to classify as spam\n"
   ]
  },
  {
   "cell_type": "code",
   "execution_count": null,
   "metadata": {},
   "outputs": [],
   "source": [
    "weights = [0.1, 0.2, 0.5, 1,3,5,7,9,15,20]\n",
    "rf_roc_auc = big_random_search('roc_auc', 20, weights)\n",
    "show_best(rf_roc_auc)"
   ]
  },
  {
   "cell_type": "markdown",
   "metadata": {},
   "source": [
    "#### 3 a)  Search around the high accuracy results"
   ]
  },
  {
   "cell_type": "code",
   "execution_count": null,
   "metadata": {},
   "outputs": [],
   "source": [
    "# high accuracy parameters:\n",
    "weight = 1\n",
    "max_depth = 80\n",
    "max_features = 1000 \n",
    "min_samples_leaf = 2 \n",
    "min_samples_split = 2 \n",
    "n_estimators = 45 \n",
    "\n",
    "\n",
    "rf_hi_acc = big_random_search(scorer, 80, [0.5,1,2,5], [70,75,80,85,90], [40,45,50,55,60], [2,3], [800,1000, 1200])\n",
    "show_best(rf_hi_acc)"
   ]
  },
  {
   "cell_type": "markdown",
   "metadata": {},
   "source": [
    "#### 3 b) Find the probability threshold needed to classify as spam without false positives"
   ]
  },
  {
   "cell_type": "code",
   "execution_count": null,
   "metadata": {},
   "outputs": [],
   "source": [
    "clf = rf_hi_acc.best_estimator_\n",
    "predicted_spam_p = clf.predict_proba(X_test)[:,1]\n",
    "\n",
    "def adjusted_classes(spam_probabilities,t):\n",
    "    return [1 if y >= t else 0 for y in spam_probabilities]\n",
    "\n",
    "threshold = 0.5\n",
    "for i in range(50):\n",
    "    print(threshold + i/100)\n",
    "    print(confusion_matrix(y_test, adjusted_classes(predicted_spam_p, threshold + i/100)))\n",
    "    print(\"\\n\")"
   ]
  },
  {
   "cell_type": "markdown",
   "metadata": {},
   "source": [
    "Raising the threshold of probability decreases FP at the cost of some FN. \n",
    "raising it to 52% for the classifier found removes the single FP from the classifier"
   ]
  },
  {
   "cell_type": "markdown",
   "metadata": {},
   "source": [
    "### Experiment 4       -   search randomly over a big grid and see if something pops up "
   ]
  },
  {
   "cell_type": "code",
   "execution_count": null,
   "metadata": {},
   "outputs": [],
   "source": [
    "rf_custom_score_big_search = big_random_search(scorer, 300, [0.1, 0.2, 0.5, 1,3,5,7,9,15,20,30])\n",
    "show_best(rf_custom_score_big_search)"
   ]
  },
  {
   "cell_type": "markdown",
   "metadata": {},
   "source": [
    "### Experiment 5  -  do exhaustive search over relatively big grid \n",
    "\n",
    "Try combinations of the parameters whose models were fairly good. "
   ]
  },
  {
   "cell_type": "code",
   "execution_count": null,
   "metadata": {},
   "outputs": [],
   "source": [
    "# With the custom scorer\n",
    "\n",
    "class_weight = (1,3,5, 7, 15)\n",
    "max_depth = (50,55, 60, 65, 70, 75,85)\n",
    "min_samples_split = (2,5,10)   \n",
    "max_features = (100, 1000,'sqrt')\n",
    "min_samples_leaf = (1,5)\n",
    "n_estimators = (20,40, 80,120)  \n",
    "Bootstrap = False \n",
    "class_weights = [{1: x} for x in class_weight]\n",
    "\n",
    "\n",
    "random_grid = {'n_estimators': n_estimators, 'max_depth': max_depth, 'min_samples_split': min_samples_split, 'min_samples_leaf': min_samples_leaf, \n",
    "               'bootstrap': bootstrap, 'class_weight': class_weights}\n",
    "\n",
    "rf_exhaustive = GridSearchCV(estimator = RandomForestClassifier(), param_grid = random_grid, scoring=scorer,cv = 5,  n_jobs = -1)\n",
    "rf_exhaustive.fit(big_train_X, big_train_y)\n",
    "show_best(rf_exhaustive)"
   ]
  },
  {
   "cell_type": "code",
   "execution_count": null,
   "metadata": {},
   "outputs": [],
   "source": [
    "# With the default scorer\n",
    "\n",
    "class_weight = (1,3,5, 7, 15)\n",
    "max_depth = (50,55, 60, 65, 70, 75,85)\n",
    "min_samples_split = (2,5,10)   \n",
    "max_features = (100, 1000,'sqrt')\n",
    "min_samples_leaf = (1,5)\n",
    "n_estimators = (20,40, 80,120)  \n",
    "Bootstrap = False \n",
    "class_weights = [{1: x} for x in class_weight]\n",
    "\n",
    "\n",
    "random_grid = {'n_estimators': n_estimators, 'max_depth': max_depth, 'min_samples_split': min_samples_split, 'min_samples_leaf': min_samples_leaf, \n",
    "               'bootstrap': bootstrap, 'class_weight': class_weights}\n",
    "\n",
    "rf_exhaustive2 = GridSearchCV(estimator = RandomForestClassifier(), param_grid = random_grid, scoring=None,cv = 5,  n_jobs = -1)\n",
    "rf_exhaustive2.fit(big_train_X, big_train_y)\n",
    "show_best(rf_exhaustive2)"
   ]
  },
  {
   "cell_type": "markdown",
   "metadata": {},
   "source": [
    "## Experiment 6 \n",
    "\n",
    "Try out training with TF-IDF"
   ]
  },
  {
   "cell_type": "code",
   "execution_count": 5,
   "metadata": {
    "scrolled": true
   },
   "outputs": [],
   "source": [
    "### Make a training set with 80% of the data, tfidf \n",
    "import scipy.sparse as sp\n",
    "\n",
    "X_train, y_train, X_validate, y_validate, X_test, y_test = cvkfold(tfidf_m_t,l,5)\n",
    "\n",
    "big_train_X = sp.csr_matrix(np.concatenate((X_validate[0].toarray(),X_train[0].toarray()),axis=0))\n",
    "big_train_y = np.concatenate((y_validate[0],y_train[0]))"
   ]
  },
  {
   "cell_type": "code",
   "execution_count": 27,
   "metadata": {},
   "outputs": [],
   "source": [
    "def big_random_search(scorer, n_iterations, weights, max_depth=list(range(5,100,5)), n_estimators=list(range(5,200,5)), min_samples_split=[2,5,10], max_features=['sqrt', 'log2',100, 1000, 10000, 30000]):\n",
    "    \"\"\"\n",
    "    Use: \n",
    "        ensemble = big_random_search(scorer, n_iterations, weights, max_depth, n_estimators, min_samples_split, max_features):\n",
    "    Before: \n",
    "        scorer is a scorer from sklearn.metrics, made from a scoring/loss function\n",
    "            or a string which is valid as argument 'scoring' to RandomizedSearchCV\n",
    "        n_iterations controls how long the random search is \n",
    "        rest of arguments are parameters for the random forest \n",
    "    After: \n",
    "        ensemble is a random forest found through RandomizedSearchCV given the parameters \n",
    "    \"\"\"\n",
    "    bootstrap  = [True, False]\n",
    "    class_weights = [{1:1,-1:x} for x in weights]\n",
    "    min_samples_leaf = [1,2,5,10]\n",
    "\n",
    "    random_grid = {'n_estimators': n_estimators, 'max_features': max_features, 'max_depth': \n",
    "                   max_depth, 'min_samples_split': min_samples_split, 'min_samples_leaf': min_samples_leaf, \n",
    "                   'bootstrap': bootstrap, 'class_weight': class_weights}\n",
    "\n",
    "    rf_random = RandomizedSearchCV(estimator = RandomForestClassifier(), param_distributions = random_grid, \n",
    "                                   scoring = scorer, n_iter = n_iterations, cv = 5, random_state = 42, n_jobs = -1)\n",
    "\n",
    "    rf_random.fit(big_train_X, big_train_y)\n",
    "    \n",
    "    return rf_random\n",
    "\n",
    "n_estimators = list(range(5,200,5))\n",
    "max_features = ['sqrt', 'log2',100, 1000, 10000, 30000]\n",
    "max_depth = list(range(5,100,5))\n",
    "min_samples_split = [2,5,10]\n",
    "weights = [0.1, 0.2, 0.5, 1,3,5,7,9,15,20]\n",
    "\n",
    "rf_custom_idf = big_random_search(scorer, 300, weights, max_depth, n_estimators, min_samples_split, max_features)\n",
    "\n",
    "show_best(rf_custom_idf)"
   ]
  },
  {
   "cell_type": "markdown",
   "metadata": {},
   "source": [
    "### Precision/Recall for good classifiers "
   ]
  },
  {
   "cell_type": "code",
   "execution_count": 23,
   "metadata": {
    "scrolled": true
   },
   "outputs": [
    {
     "data": {
      "text/plain": [
       "Text(0, 0.5, 'Precision')"
      ]
     },
     "execution_count": 23,
     "metadata": {},
     "output_type": "execute_result"
    },
    {
     "data": {
      "image/png": "[encoded data removed]",
      "text/plain": [
       "<Figure size 432x288 with 1 Axes>"
      ]
     },
     "metadata": {
      "needs_background": "light"
     },
     "output_type": "display_data"
    }
   ],
   "source": [
    "precisions = [0.985, 1,  1,  0.934,             1,  0.983 ,                1 - 1/1567,  1 - 5/1607]\n",
    "recalls = [0.999, 1-410/1606, 1 - 249/1606, 1,   1 - 57/1606, 1 - 2/1604, 1 - 40/1606,   1 - 4/1602 ]\n",
    "\n",
    "plt.plot(precisions, recalls, 'bo')\n",
    "plt.title(\"Precision/Recall for Random Forests\")\n",
    "plt.xlabel(\"Recall\")\n",
    "plt.ylabel(\"Precision\")"
   ]
  },
  {
   "cell_type": "code",
   "execution_count": null,
   "metadata": {},
   "outputs": [],
   "source": [
    "# ROC fyrir RF \n",
    "model = RandomForestClassifier(bootstrap=False, class_weight={1: 1, -1: 1},\n",
    "            criterion='gini', max_depth=85, max_features=1000,\n",
    "            max_leaf_nodes=None, min_impurity_decrease=0.0,\n",
    "            min_impurity_split=None, min_samples_leaf=1,\n",
    "            min_samples_split=10, min_weight_fraction_leaf=0.0,\n",
    "            n_estimators=145, n_jobs=None, oob_score=False,\n",
    "            random_state=None, verbose=0, warm_start=False)\n",
    "\n",
    "\n",
    "model.fit(big_train_X, big_train_y)\n",
    "\n",
    "y_score = model.predict_proba(X_test)[:,1]\n",
    "\n",
    "fpr, tpr, _ =roc_curve(y_test, y_score)\n",
    "roc_auc = auc(fpr,tpr)\n",
    "lw = 2\n",
    "plt.plot(fpr, tpr, color='darkorange',lw=lw, label='ROC curve (area = %0.2f)' % roc_auc) \n",
    "plt.plot([0, 1], [0, 1], color='navy', lw=lw, linestyle='--') \n",
    "plt.xlim([0.0, 1.0])\n",
    "plt.ylim([0.0, 1.05])\n",
    "plt.xlabel('False Positive Rate')\n",
    "plt.ylabel('True Positive Rate')\n",
    "plt.title('Receiver operating characteristic example') \n",
    "plt.legend(loc=\"lower right\")"
   ]
  }
 ],
 "metadata": {
  "kernelspec": {
   "display_name": "Python 3",
   "language": "python",
   "name": "python3"
  },
  "language_info": {
   "codemirror_mode": {
    "name": "ipython",
    "version": 3
   },
   "file_extension": ".py",
   "mimetype": "text/x-python",
   "name": "python",
   "nbconvert_exporter": "python",
   "pygments_lexer": "ipython3",
   "version": "3.7.3"
  }
 },
 "nbformat": 4,
 "nbformat_minor": 2
}
